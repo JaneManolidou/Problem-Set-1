{
 "cells": [
  {
   "cell_type": "code",
   "execution_count": 4,
   "metadata": {},
   "outputs": [
    {
     "name": "stdout",
     "output_type": "stream",
     "text": [
      "The root is: 0.83\n",
      "The error is: 0.0078125\n"
     ]
    }
   ],
   "source": [
    "import numpy as np\n",
    "def equation(x):\n",
    "    f = 2*x+3*np.tan(x/4)-np.exp(x)\n",
    "    return f\n",
    "a = 0.5\n",
    "b = 1\n",
    "erN = abs(b-a)/2\n",
    "n=0\n",
    "#we already know there is a root for f and so we don't need to check again\n",
    "while erN>=0.01:\n",
    "    c=(a+b)/2\n",
    "    f1 = equation(a)\n",
    "    f2= equation(b)\n",
    "    f3 = equation(c)\n",
    "    s1 = f1*f3\n",
    "    s2 = f2*f3\n",
    "    if s1<0:\n",
    "        b = c\n",
    "        erN = abs(b-a)/2\n",
    "    if s2<0:\n",
    "        a = c\n",
    "        erN = abs(b-a)/2\n",
    "print(\"The root is:\", round(c,2))\n",
    "print(\"The error is:\", erN)        \n",
    "        "
   ]
  },
  {
   "cell_type": "code",
   "execution_count": null,
   "metadata": {},
   "outputs": [],
   "source": []
  },
  {
   "cell_type": "code",
   "execution_count": null,
   "metadata": {},
   "outputs": [],
   "source": []
  }
 ],
 "metadata": {
  "kernelspec": {
   "display_name": "Python 3",
   "language": "python",
   "name": "python3"
  },
  "language_info": {
   "codemirror_mode": {
    "name": "ipython",
    "version": 3
   },
   "file_extension": ".py",
   "mimetype": "text/x-python",
   "name": "python",
   "nbconvert_exporter": "python",
   "pygments_lexer": "ipython3",
   "version": "3.7.4"
  }
 },
 "nbformat": 4,
 "nbformat_minor": 2
}
