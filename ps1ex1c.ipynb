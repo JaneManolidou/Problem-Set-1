{
 "cells": [
  {
   "cell_type": "code",
   "execution_count": 1,
   "metadata": {},
   "outputs": [],
   "source": [
    "import numpy as np\n",
    "def numberN(a,b,error):\n",
    "    er0 = abs(b-a)/2\n",
    "    N = (np.log(er0)-np.log(error))/np.log(2)\n",
    "    print(\"For error smaller than\", error, \"N is: \", round(N))\n",
    "   "
   ]
  },
  {
   "cell_type": "code",
   "execution_count": 2,
   "metadata": {},
   "outputs": [
    {
     "name": "stdout",
     "output_type": "stream",
     "text": [
      "For error smaller than 0.001 N is:  8.0\n",
      "For error smaller than 1e-06 N is:  18.0\n",
      "For error smaller than 1e-12 N is:  38.0\n"
     ]
    }
   ],
   "source": [
    "a = 0.5\n",
    "b=1\n",
    "numberN(a,b,10**(-3))\n",
    "numberN(a,b,10**(-6))\n",
    "numberN(a,b,10**(-12))"
   ]
  },
  {
   "cell_type": "code",
   "execution_count": null,
   "metadata": {},
   "outputs": [],
   "source": []
  }
 ],
 "metadata": {
  "kernelspec": {
   "display_name": "Python 3",
   "language": "python",
   "name": "python3"
  },
  "language_info": {
   "codemirror_mode": {
    "name": "ipython",
    "version": 3
   },
   "file_extension": ".py",
   "mimetype": "text/x-python",
   "name": "python",
   "nbconvert_exporter": "python",
   "pygments_lexer": "ipython3",
   "version": "3.7.4"
  }
 },
 "nbformat": 4,
 "nbformat_minor": 2
}
