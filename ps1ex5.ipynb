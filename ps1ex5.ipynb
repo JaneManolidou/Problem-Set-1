{
 "cells": [
  {
   "cell_type": "code",
   "execution_count": 1,
   "metadata": {},
   "outputs": [],
   "source": [
    "import numpy as np\n",
    "import matplotlib.pyplot as plt\n",
    "import matplotlib.ticker as ticker"
   ]
  },
  {
   "cell_type": "code",
   "execution_count": 2,
   "metadata": {},
   "outputs": [],
   "source": [
    "def fun(x):\n",
    "    f = ((x-1)**4)*np.exp(x)\n",
    "    return f"
   ]
  },
  {
   "cell_type": "code",
   "execution_count": 5,
   "metadata": {},
   "outputs": [],
   "source": [
    "def der(x):\n",
    "    f = ((x-1)**3)*(x+3)*np.exp(x)\n",
    "    return f"
   ]
  },
  {
   "cell_type": "code",
   "execution_count": 26,
   "metadata": {},
   "outputs": [],
   "source": [
    "def newtraph(xo,er):\n",
    "    n = 0\n",
    "    N = 0\n",
    "    f = fun(xo)\n",
    "    d = der(xo)\n",
    "    x = xo - (f/d)\n",
    "    while n == 0:\n",
    "        f = fun(x)\n",
    "        d = der(x)\n",
    "        x2 = x - (f/d)\n",
    "        error = abs(x-x2)\n",
    "        x = x2\n",
    "        N = N + 1\n",
    "        if error < er:\n",
    "            break\n",
    "    print(\"The solution is:\", x, \"  with an error of:\", error)\n",
    "    print(\"It took us \", N+1, \" iterations to reach this\")\n",
    "        "
   ]
  },
  {
   "cell_type": "code",
   "execution_count": 27,
   "metadata": {},
   "outputs": [],
   "source": [
    "xo=1.2"
   ]
  },
  {
   "cell_type": "code",
   "execution_count": 28,
   "metadata": {
    "scrolled": true
   },
   "outputs": [
    {
     "name": "stdout",
     "output_type": "stream",
     "text": [
      "We want an error smaller than 10^(-12)\n",
      "For that reason we employ the Newton Raphson method\n",
      "The solution is: 1.0000000000028855   with an error of: 9.618972285352356e-13\n",
      "It took us  87  iterations to reach this\n"
     ]
    }
   ],
   "source": [
    "print(\"We want an error smaller than 10^(-12)\\nFor that reason we employ the Newton Raphson method\")\n",
    "newtraph(xo,10**(-12))"
   ]
  },
  {
   "cell_type": "code",
   "execution_count": 15,
   "metadata": {},
   "outputs": [
    {
     "name": "stdout",
     "output_type": "stream",
     "text": [
      "We need to repeat this but with the method which better applies for functions with multiple roots\n",
      "That would mean the Halley method\n"
     ]
    }
   ],
   "source": [
    "#wow those are a lot of iterations\n",
    "print(\"We need to repeat this but with the method which better applies for functions with multiple roots\")\n",
    "print(\"That would mean the Halley method\")"
   ]
  },
  {
   "cell_type": "code",
   "execution_count": 30,
   "metadata": {},
   "outputs": [
    {
     "name": "stdout",
     "output_type": "stream",
     "text": [
      "For the Halley method we firstly need to define phi = f/f'\n"
     ]
    }
   ],
   "source": [
    "print(\"For the Halley method we firstly need to define phi = f/f'\")\n",
    "\n",
    "def phi (x):\n",
    "    phi = (x-1)/(4*(x+3))\n",
    "    return phi"
   ]
  },
  {
   "cell_type": "code",
   "execution_count": 29,
   "metadata": {},
   "outputs": [],
   "source": [
    "def phi2 (x):\n",
    "    phi = 1/((x+3)**2)\n",
    "    return phi"
   ]
  },
  {
   "cell_type": "code",
   "execution_count": 34,
   "metadata": {},
   "outputs": [
    {
     "name": "stdout",
     "output_type": "stream",
     "text": [
      "Now we shall repeat the precedure for the newton raphson method but with phi instead of f\n",
      "We'll call the new function 'halley'\n"
     ]
    }
   ],
   "source": [
    "print(\"Now we shall repeat the precedure for the newton raphson method but with phi instead of f\")\n",
    "print(\"We'll call the new function 'halley'\")\n"
   ]
  },
  {
   "cell_type": "code",
   "execution_count": 41,
   "metadata": {},
   "outputs": [],
   "source": [
    "def halley(xo,er):\n",
    "    n = 0\n",
    "    N = 0\n",
    "    f = phi(xo)\n",
    "    d = phi2(xo)\n",
    "    x = xo - (f/d)\n",
    "    while n == 0:\n",
    "        f = phi(x)\n",
    "        d = phi2(x)\n",
    "        x2 = x - (f/d)\n",
    "        error = abs(x-x2)\n",
    "        x = x2\n",
    "        N = N + 1\n",
    "        if error < er:\n",
    "            break\n",
    "    print(\"The solution is:\", x, \"  with an error of:\", error)\n",
    "    print(\"It took us \", N+1, \" iterations to reach this\")\n",
    "    #we use N+1 for the iterations because we calculate the first one outside the loop.\n",
    "        "
   ]
  },
  {
   "cell_type": "code",
   "execution_count": 42,
   "metadata": {},
   "outputs": [
    {
     "name": "stdout",
     "output_type": "stream",
     "text": [
      "The solution is: 1.0   with an error of: 0.0\n",
      "It took us  5  iterations to reach this\n"
     ]
    }
   ],
   "source": [
    "halley(xo,10**(-12))"
   ]
  },
  {
   "cell_type": "code",
   "execution_count": 69,
   "metadata": {},
   "outputs": [],
   "source": [
    "def compare (xo,N):\n",
    "    \n",
    "    #Newton-Raphson\n",
    "    \n",
    "    f = fun(xo)\n",
    "    d = der(xo)\n",
    "    x = xo - (f/d)\n",
    "    newt = []\n",
    "    it = []\n",
    "    \n",
    "    for n in range(0,N):\n",
    "        newt.append(abs(x-xo))\n",
    "        \n",
    "        f = fun(x)\n",
    "        d = der(x)\n",
    "        xo = x\n",
    "        x = x - (f/d)\n",
    "              \n",
    "        it.append(n)\n",
    "    print(\"Solution for NR\", x)    \n",
    "    \n",
    "    \n",
    "    #Halley\n",
    "    \n",
    "    f = phi(xo)\n",
    "    d = phi2(xo)\n",
    "    x = xo - (f/d)\n",
    "    hal = []\n",
    "    for n in range(0,N):\n",
    "        f = phi(x)\n",
    "        d = phi2(x)\n",
    "        hal.append(abs(x-xo))\n",
    "        xo=x\n",
    "        x = x - (f/d)\n",
    "        \n",
    "       \n",
    "    print(\"Solution for Halley:\", x)  \n",
    "    \n",
    "    print(\"\\n And the graph would be:\")\n",
    "    \n",
    "    fig = plt.figure()\n",
    "    ax = fig.add_subplot(1, 1, 1)\n",
    "    ax.plot(it, newt, it, hal, marker='o')\n",
    "    ax.set_yscale('log')\n",
    "    ax.set(xlabel='iteration', ylabel='error')\n",
    "    ax.grid()\n",
    "    plt.xlim(right=N-1)\n",
    "    tick_spacing = 1\n",
    "    ax.xaxis.set_major_locator(ticker.MultipleLocator(tick_spacing)) \n",
    "   "
   ]
  },
  {
   "cell_type": "code",
   "execution_count": 70,
   "metadata": {},
   "outputs": [
    {
     "name": "stdout",
     "output_type": "stream",
     "text": [
      "Solution for NR 1.037565231471125\n",
      "Solution for Halley: 1.0\n",
      "\n",
      " And the graph would be:\n"
     ]
    },
    {
     "data": {
      "image/png": "[encoded data removed]",
      "text/plain": [
       "<Figure size 432x288 with 1 Axes>"
      ]
     },
     "metadata": {
      "needs_background": "light"
     },
     "output_type": "display_data"
    }
   ],
   "source": [
    "compare(xo,5)"
   ]
  },
  {
   "cell_type": "code",
   "execution_count": 65,
   "metadata": {},
   "outputs": [
    {
     "name": "stdout",
     "output_type": "stream",
     "text": [
      "We see that for 5 iterations the Halley method performs a significant drop in the error\n",
      "while the newton-raphson keeps its own almost constant\n"
     ]
    }
   ],
   "source": [
    "print(\"We see that for 5 iterations the Halley method performs a significant drop in the error\\nwhile the newton-raphson keeps its own almost constant\")"
   ]
  },
  {
   "cell_type": "code",
   "execution_count": 66,
   "metadata": {},
   "outputs": [
    {
     "name": "stdout",
     "output_type": "stream",
     "text": [
      "Let us call the function again for N=15 iterations\n",
      "That is somewhere between the 5 and 86 iterations we got as a result for the\n",
      "Newton-Raphson and the Halley method accordingly.\n",
      "Even though it is between the two it is not that far away from 5 as to extinguish the curve from the Halley method\n",
      "\n",
      "Solution for NR 1.0021405341052536\n",
      "Solution for Halley: 1.0\n",
      "\n",
      " And the graph would be:\n"
     ]
    },
    {
     "data": {
      "image/png": "[encoded data removed]",
      "text/plain": [
       "<Figure size 432x288 with 1 Axes>"
      ]
     },
     "metadata": {
      "needs_background": "light"
     },
     "output_type": "display_data"
    }
   ],
   "source": [
    "print(\"Let us call the function again for N=15 iterations\\nThat is somewhere between the 5 and 86 iterations we got as a result for the\\nNewton-Raphson and the Halley method accordingly.\\nEven though it is between the two it is not that far away from 5 as to extinguish the curve from the Halley method\\n\")\n",
    "compare(xo,15)"
   ]
  },
  {
   "cell_type": "code",
   "execution_count": 57,
   "metadata": {},
   "outputs": [
    {
     "name": "stdout",
     "output_type": "stream",
     "text": [
      "We observe that indeed the error in the Newton- Raphson method shrinks but at a very slow rate\n"
     ]
    }
   ],
   "source": [
    "print(\"We observe that indeed the error in the Newton- Raphson method shrinks but at a very slow rate\")"
   ]
  },
  {
   "cell_type": "code",
   "execution_count": null,
   "metadata": {},
   "outputs": [],
   "source": []
  }
 ],
 "metadata": {
  "kernelspec": {
   "display_name": "Python 3",
   "language": "python",
   "name": "python3"
  },
  "language_info": {
   "codemirror_mode": {
    "name": "ipython",
    "version": 3
   },
   "file_extension": ".py",
   "mimetype": "text/x-python",
   "name": "python",
   "nbconvert_exporter": "python",
   "pygments_lexer": "ipython3",
   "version": "3.7.4"
  }
 },
 "nbformat": 4,
 "nbformat_minor": 2
}
