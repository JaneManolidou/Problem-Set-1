{
 "cells": [
  {
   "cell_type": "code",
   "execution_count": 78,
   "metadata": {},
   "outputs": [],
   "source": [
    "import numpy as np\n",
    "import matplotlib.pyplot as plt\n",
    "import matplotlib.ticker as ticker\n",
    "\n",
    "def equation(x):\n",
    "    f = 2*x+3*np.tan(x/4)-np.exp(x)\n",
    "    return f         "
   ]
  },
  {
   "cell_type": "code",
   "execution_count": 127,
   "metadata": {},
   "outputs": [],
   "source": [
    "def lin(a,b,N):\n",
    "    #we already know there is a root for f and so we don't need to check again\n",
    "    #this time we define the number of iterations \n",
    "    n=0\n",
    "    while n<N:\n",
    "        n = n+1\n",
    "        f1 = equation(a)\n",
    "        f2= equation(b)\n",
    "        c = b - (f2/(f2-f1))*(b-a)\n",
    "        f3 = equation(c)\n",
    "        s1 = f1*f3\n",
    "        s2 = f2*f3\n",
    "        if s1<0:\n",
    "            b = c\n",
    "        if s2<0:\n",
    "            a = c\n",
    "    print(\"The root is:\", c)\n",
    "    return c\n",
    "\n",
    "    #we can (instead of the print command) use a return command, giving us the option to manage the results and/or use them in later calculations  \n",
    "    \n",
    "def lin2(a,b,er):\n",
    "    n=0\n",
    "    i = 0 \n",
    "    while i==0:\n",
    "        n = n+1\n",
    "        f1 = equation(a)\n",
    "        f2= equation(b)\n",
    "        c = b - (f2/(f2-f1))*(b-a)\n",
    "             \n",
    "        f3 = equation(c)\n",
    "        s1 = f1*f3\n",
    "        s2 = f2*f3\n",
    "\n",
    "        if s1<0:\n",
    "            b = c\n",
    "            error = abs((b - (f2/(f2-f1))*(b-a))-c)\n",
    "            if error < er:\n",
    "                break\n",
    "        if s2<0:\n",
    "            a = c\n",
    "            error = abs((b - (f2/(f2-f1))*(b-a))-c)\n",
    "            if error < er:\n",
    "                break\n",
    "        \n",
    "    print(\"The root is:\", c)\n",
    "    print(\"The number of iterations is:\", n)\n",
    "    return c\n"
   ]
  },
  {
   "cell_type": "code",
   "execution_count": 128,
   "metadata": {},
   "outputs": [
    {
     "name": "stdout",
     "output_type": "stream",
     "text": [
      "For 8 iterations:\n",
      "The root is: 0.8337843858737103\n",
      "For 18 iterations:\n",
      "The root is: 0.8335556088442155\n",
      "For 38 iterations\n",
      "The root is: 0.8335555793434618\n"
     ]
    },
    {
     "data": {
      "text/plain": [
       "0.8335555793434618"
      ]
     },
     "execution_count": 128,
     "metadata": {},
     "output_type": "execute_result"
    }
   ],
   "source": [
    "a = 0.5\n",
    "b=1\n",
    "print(\"For 8 iterations:\")\n",
    "lin(a,b,8)\n",
    "print(\"For 18 iterations:\")\n",
    "lin(a,b,18)\n",
    "print(\"For 38 iterations\")\n",
    "lin(a,b,38)"
   ]
  },
  {
   "cell_type": "code",
   "execution_count": 129,
   "metadata": {},
   "outputs": [
    {
     "name": "stdout",
     "output_type": "stream",
     "text": [
      "The root is: 0.8335555793434618\n"
     ]
    }
   ],
   "source": [
    "root = lin(a,b,38)"
   ]
  },
  {
   "cell_type": "code",
   "execution_count": 141,
   "metadata": {},
   "outputs": [
    {
     "name": "stdout",
     "output_type": "stream",
     "text": [
      "k is: -2.3012656883682894\n"
     ]
    }
   ],
   "source": [
    "def der(x):\n",
    "    d = 2 + 3*(1/(4*((np.cos(x/4))**2)))- np.exp(x)\n",
    "    return d\n",
    "def der2(x):\n",
    "    d = -np.exp(x)+(3/8)*np.tan(x/4)/(np.cos(x/4)**2)\n",
    "    return d\n"
   ]
  },
  {
   "cell_type": "code",
   "execution_count": 152,
   "metadata": {},
   "outputs": [],
   "source": [
    "def plotting(a,b,N):\n",
    "    n=0\n",
    "    er=[]\n",
    "    ns = []\n",
    "    pre = []\n",
    "    while n<N:\n",
    "        n = n+1\n",
    "        ns.append(n)\n",
    "        f1 = equation(a)\n",
    "        f2= equation(b)\n",
    "        c = b - (f2/(f2-f1))*(b-a)\n",
    "        f3 = equation(c)\n",
    "        er.append(abs(root- c))\n",
    "        \n",
    "        s1 = f1*f3\n",
    "        s2 = f2*f3\n",
    "        if s1<0:\n",
    "            b = c\n",
    "        if s2<0:\n",
    "            a = c\n",
    "    k = der2(root)/(2*der(root))\n",
    "    print(\"k is:\",k)\n",
    "\n",
    "\n",
    "    for i in range (0,n-1):\n",
    "        pre.append(k*(er[i]**1.618))\n",
    "    pre.append(0)\n",
    "    #We assume that the next solution will be the root and therefore the error will be zero. \n",
    "    #We need a specific length for the table otherwise the programm won't run\n",
    "    \n",
    "    graph = plt.plot(ns,er,pre, marker='o')\n",
    "    print(\"this is how the error converges\")\n",
    "    plt.show(graph)\n",
    "    print(er)\n",
    "    print(\"\\n And in a logarithmic scale: \")\n",
    "    fig, ax = plt.subplots()\n",
    "    ax.plot(ns, er,ns,pre, marker = 'o')\n",
    "    ax.set_yscale('log')\n",
    "    ax.set(xlabel='iteration', ylabel='error')\n",
    "    ax.grid()\n",
    "    plt.xlim(right=N)\n",
    "    tick_spacing = 1\n",
    "    ax.xaxis.set_major_locator(ticker.MultipleLocator(tick_spacing)) \n",
    "    plt.show()\n",
    "    \n",
    "    "
   ]
  },
  {
   "cell_type": "code",
   "execution_count": 153,
   "metadata": {},
   "outputs": [
    {
     "name": "stdout",
     "output_type": "stream",
     "text": [
      "so for 38 iterations\n",
      "k is: -2.3012656883682894\n",
      "this is how the error converges\n"
     ]
    },
    {
     "data": {
      "image/png": "[encoded data removed]",
      "text/plain": [
       "<Figure size 432x288 with 1 Axes>"
      ]
     },
     "metadata": {
      "needs_background": "light"
     },
     "output_type": "display_data"
    },
    {
     "name": "stdout",
     "output_type": "stream",
     "text": [
      "[0.09172772948008268, 0.043702292675473875, 0.019150173116576186, 0.008060407210241927, 0.0033332248425950173, 0.0013681695964822271, 0.0005598588147684991, 0.00022880653024848208, 9.346172320268131e-05, 3.816870208517287e-05, 1.558631748277417e-05, 6.364500679367779e-06, 2.5988361861406517e-06, 1.061184556117034e-06, 4.333131751188546e-07, 1.769344670776718e-07, 7.224749831724608e-08, 2.9500753728761708e-08, 1.2046014519206949e-08, 4.918736973280602e-09, 2.008463284575157e-09, 8.201135326402209e-10, 3.3487601580617365e-10, 1.367397306495377e-10, 5.583478124293606e-11, 2.2798651855282515e-11, 9.308998016877013e-12, 3.800404435594373e-12, 1.5514256546111937e-12, 6.334932578511143e-13, 2.5845992013273644e-13, 1.0524914273446484e-13, 4.2521541843143495e-14, 1.687538997430238e-14, 6.5503158452884236e-15, 2.220446049250313e-15, 5.551115123125783e-16, 0.0]\n",
      "\n",
      " And in a logarithmic scale: \n"
     ]
    },
    {
     "data": {
      "image/png": "[encoded data removed]",
      "text/plain": [
       "<Figure size 432x288 with 1 Axes>"
      ]
     },
     "metadata": {
      "needs_background": "light"
     },
     "output_type": "display_data"
    }
   ],
   "source": [
    "print(\"so for 38 iterations\")\n",
    "plotting(a,b,38)"
   ]
  },
  {
   "cell_type": "code",
   "execution_count": null,
   "metadata": {},
   "outputs": [],
   "source": []
  },
  {
   "cell_type": "code",
   "execution_count": 154,
   "metadata": {},
   "outputs": [
    {
     "name": "stdout",
     "output_type": "stream",
     "text": [
      "Let's check for the fewer 8 iterations:\n",
      "k is: -2.3012656883682894\n",
      "this is how the error converges\n"
     ]
    },
    {
     "data": {
      "image/png": "[encoded data removed]",
      "text/plain": [
       "<Figure size 432x288 with 1 Axes>"
      ]
     },
     "metadata": {
      "needs_background": "light"
     },
     "output_type": "display_data"
    },
    {
     "name": "stdout",
     "output_type": "stream",
     "text": [
      "[0.09172772948008268, 0.043702292675473875, 0.019150173116576186, 0.008060407210241927, 0.0033332248425950173, 0.0013681695964822271, 0.0005598588147684991, 0.00022880653024848208]\n",
      "\n",
      " And in a logarithmic scale: \n"
     ]
    },
    {
     "data": {
      "image/png": "[encoded data removed]",
      "text/plain": [
       "<Figure size 432x288 with 1 Axes>"
      ]
     },
     "metadata": {
      "needs_background": "light"
     },
     "output_type": "display_data"
    }
   ],
   "source": [
    "print(\"Let's check for the fewer 8 iterations:\")\n",
    "plotting(a,b,8)"
   ]
  },
  {
   "cell_type": "code",
   "execution_count": null,
   "metadata": {},
   "outputs": [],
   "source": []
  },
  {
   "cell_type": "code",
   "execution_count": 155,
   "metadata": {},
   "outputs": [
    {
     "name": "stdout",
     "output_type": "stream",
     "text": [
      "Let's check with the errors\n",
      " \n",
      " For error smaller than 10^(-3)\n",
      "The root is: 0.8341154381582303\n",
      "The number of iterations is: 7\n",
      "\n",
      " Smaller than 10^-6\n",
      "The root is: 0.8335560126566369\n",
      "The number of iterations is: 15\n",
      "\n",
      " and smaller than 10^(-12)\n",
      "The root is: 0.9252833088235445\n"
     ]
    },
    {
     "data": {
      "text/plain": [
       "0.9252833088235445"
      ]
     },
     "execution_count": 155,
     "metadata": {},
     "output_type": "execute_result"
    }
   ],
   "source": [
    "print(\"Let's check with the errors\\n \\n For error smaller than 10^(-3)\")\n",
    "lin2(a,b,10**(-3))\n",
    "print(\"\\n Smaller than 10^-6\")\n",
    "lin2(a,b,10**(-6))\n",
    "print(\"\\n and smaller than 10^(-12)\")\n",
    "lin(a,b,10**(-12))"
   ]
  },
  {
   "cell_type": "code",
   "execution_count": null,
   "metadata": {},
   "outputs": [],
   "source": []
  },
  {
   "cell_type": "code",
   "execution_count": null,
   "metadata": {},
   "outputs": [],
   "source": []
  }
 ],
 "metadata": {
  "kernelspec": {
   "display_name": "Python 3",
   "language": "python",
   "name": "python3"
  },
  "language_info": {
   "codemirror_mode": {
    "name": "ipython",
    "version": 3
   },
   "file_extension": ".py",
   "mimetype": "text/x-python",
   "name": "python",
   "nbconvert_exporter": "python",
   "pygments_lexer": "ipython3",
   "version": "3.7.4"
  }
 },
 "nbformat": 4,
 "nbformat_minor": 2
}
