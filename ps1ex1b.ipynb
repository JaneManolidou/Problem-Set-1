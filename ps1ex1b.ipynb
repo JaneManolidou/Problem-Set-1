{
 "cells": [
  {
   "cell_type": "code",
   "execution_count": 3,
   "metadata": {},
   "outputs": [],
   "source": [
    "import numpy as np\n",
    "def equation(x):\n",
    "    f = 2*x+3*np.tan(x/4)-np.exp(x)\n",
    "    return f         "
   ]
  },
  {
   "cell_type": "code",
   "execution_count": 6,
   "metadata": {},
   "outputs": [],
   "source": [
    "def bisection(a,b,error):\n",
    "    erN = abs(b-a)/2\n",
    "    n=0\n",
    "    #we already know there is a root for f and so we don't need to check again\n",
    "    while erN>=error:\n",
    "        c=(a+b)/2\n",
    "        n = n+1\n",
    "        f1 = equation(a)\n",
    "        f2= equation(b)\n",
    "        f3 = equation(c)\n",
    "        s1 = f1*f3\n",
    "        s2 = f2*f3\n",
    "        if s1<0:\n",
    "            b = c\n",
    "            erN = abs(b-a)/2\n",
    "        if s2<0:\n",
    "            a = c\n",
    "            erN = abs(b-a)/2\n",
    "    print(\"The root is:\", c)\n",
    "    print(\"The error is:\", erN)\n",
    "    print(\"N is: \", n)\n",
    "    #we can (instead of the print command) use a return command, giving us the option to manage the results and/or use them in later calculations    "
   ]
  },
  {
   "cell_type": "code",
   "execution_count": 7,
   "metadata": {},
   "outputs": [
    {
     "name": "stdout",
     "output_type": "stream",
     "text": [
      "The root is: 0.833984375\n",
      "The error is: 0.0009765625\n",
      "N is:  8\n",
      "The root is: 0.8335552215576172\n",
      "The error is: 9.5367431640625e-07\n",
      "N is:  18\n",
      "The root is: 0.8335555793437379\n",
      "The error is: 9.094947017729282e-13\n",
      "N is:  38\n"
     ]
    }
   ],
   "source": [
    "a = 0.5\n",
    "b = 1\n",
    "bisection(a,b,10**(-3))\n",
    "bisection(a,b,10**(-6))\n",
    "bisection(a,b,10**(-12))"
   ]
  },
  {
   "cell_type": "code",
   "execution_count": null,
   "metadata": {},
   "outputs": [],
   "source": []
  }
 ],
 "metadata": {
  "kernelspec": {
   "display_name": "Python 3",
   "language": "python",
   "name": "python3"
  },
  "language_info": {
   "codemirror_mode": {
    "name": "ipython",
    "version": 3
   },
   "file_extension": ".py",
   "mimetype": "text/x-python",
   "name": "python",
   "nbconvert_exporter": "python",
   "pygments_lexer": "ipython3",
   "version": "3.7.4"
  }
 },
 "nbformat": 4,
 "nbformat_minor": 2
}
